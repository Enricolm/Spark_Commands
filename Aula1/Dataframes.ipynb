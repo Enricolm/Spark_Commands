{
 "cells": [
  {
   "cell_type": "code",
   "execution_count": 80,
   "metadata": {},
   "outputs": [],
   "source": [
    "from pyspark.sql import SparkSession, functions as f\n",
    "from pyspark.sql.types import StructType,StructField, StringType, IntegerType,FloatType"
   ]
  },
  {
   "cell_type": "code",
   "execution_count": 81,
   "metadata": {},
   "outputs": [],
   "source": [
    "spark = SparkSession.builder.appName(\"Spark_builder\").getOrCreate()"
   ]
  },
  {
   "cell_type": "code",
   "execution_count": 82,
   "metadata": {},
   "outputs": [
    {
     "name": "stdout",
     "output_type": "stream",
     "text": [
      "+---+-------+\n",
      "| _1|     _2|\n",
      "+---+-------+\n",
      "|  0|Isabela|\n",
      "|  1| Enrico|\n",
      "+---+-------+\n",
      "\n"
     ]
    }
   ],
   "source": [
    "dados_list = [0,\"Isabela\"],[1, \"Enrico\"]\n",
    "dataFrame1 = spark.createDataFrame(dados_list)\n",
    "dataFrame1.show()"
   ]
  },
  {
   "cell_type": "markdown",
   "metadata": {},
   "source": [
    "Criando Dataframe com Schema"
   ]
  },
  {
   "cell_type": "code",
   "execution_count": 83,
   "metadata": {},
   "outputs": [],
   "source": [
    "# schema = StructType([\n",
    "#     StructField(\"Index\",IntegerType()),\n",
    "#     StructField(\"Nome\",StringType())\n",
    "# ])\n",
    "schema = \"Index INT, NOME STRING\"\n",
    "dados = [0,\"Enrico\"],[1,\"Cassio\"],[2,\"Yuri ALberto\"],[3,\"Isabela\"]"
   ]
  },
  {
   "cell_type": "code",
   "execution_count": 84,
   "metadata": {},
   "outputs": [],
   "source": [
    "dataFrame2 = spark.createDataFrame(dados,schema=schema)"
   ]
  },
  {
   "cell_type": "code",
   "execution_count": 85,
   "metadata": {},
   "outputs": [
    {
     "name": "stdout",
     "output_type": "stream",
     "text": [
      "+-----+------------+\n",
      "|Index|        NOME|\n",
      "+-----+------------+\n",
      "|    0|      Enrico|\n",
      "|    1|      Cassio|\n",
      "|    2|Yuri ALberto|\n",
      "|    3|     Isabela|\n",
      "+-----+------------+\n",
      "\n"
     ]
    }
   ],
   "source": [
    "dataFrame2.show()"
   ]
  },
  {
   "cell_type": "markdown",
   "metadata": {},
   "source": [
    "Usando Sum para uma funcao de agg"
   ]
  },
  {
   "cell_type": "code",
   "execution_count": 86,
   "metadata": {},
   "outputs": [],
   "source": [
    "vendas = [\n",
    "    {\"Loja\": \"Loja A\", \"Produto\": \"Produto 1\", \"Quantidade\": 20, \"Valor\": 30.50},\n",
    "    {\"Loja\": \"Loja B\", \"Produto\": \"Produto 2\", \"Quantidade\": 15, \"Valor\": 25.75},\n",
    "    {\"Loja\": \"Loja C\", \"Produto\": \"Produto 3\", \"Quantidade\": 10, \"Valor\": 15.20},\n",
    "    {\"Loja\": \"Loja D\", \"Produto\": \"Produto 4\", \"Quantidade\": 25, \"Valor\": 50.00},\n",
    "    {\"Loja\": \"Loja E\", \"Produto\": \"Produto 5\", \"Quantidade\": 12, \"Valor\": 40.80},\n",
    "    {\"Loja\": \"Loja F\", \"Produto\": \"Produto 1\", \"Quantidade\": 18, \"Valor\": 35.25},\n",
    "    {\"Loja\": \"Loja G\", \"Produto\": \"Produto 2\", \"Quantidade\": 22, \"Valor\": 28.90},\n",
    "    {\"Loja\": \"Loja H\", \"Produto\": \"Produto 3\", \"Quantidade\": 30, \"Valor\": 20.15},\n",
    "    {\"Loja\": \"Loja I\", \"Produto\": \"Produto 4\", \"Quantidade\": 17, \"Valor\": 45.60},\n",
    "    {\"Loja\": \"Loja J\", \"Produto\": \"Produto 5\", \"Quantidade\": 14, \"Valor\": 55.30}\n",
    "]\n",
    "vendas.extend([\n",
    "    {\"Loja\": \"Loja A\", \"Produto\": \"Produto 6\", \"Quantidade\": 8, \"Valor\": 18.75},\n",
    "    {\"Loja\": \"Loja B\", \"Produto\": \"Produto 7\", \"Quantidade\": 19, \"Valor\": 22.40},\n",
    "    {\"Loja\": \"Loja C\", \"Produto\": \"Produto 8\", \"Quantidade\": 14, \"Valor\": 33.90},\n",
    "    {\"Loja\": \"Loja D\", \"Produto\": \"Produto 9\", \"Quantidade\": 27, \"Valor\": 48.50},\n",
    "    {\"Loja\": \"Loja E\", \"Produto\": \"Produto 10\", \"Quantidade\": 11, \"Valor\": 38.60},\n",
    "    {\"Loja\": \"Loja F\", \"Produto\": \"Produto 6\", \"Quantidade\": 23, \"Valor\": 29.75},\n",
    "    {\"Loja\": \"Loja G\", \"Produto\": \"Produto 7\", \"Quantidade\": 16, \"Valor\": 16.20},\n",
    "    {\"Loja\": \"Loja H\", \"Produto\": \"Produto 8\", \"Quantidade\": 32, \"Valor\": 42.80},\n",
    "    {\"Loja\": \"Loja I\", \"Produto\": \"Produto 9\", \"Quantidade\": 21, \"Valor\": 55.00},\n",
    "    {\"Loja\": \"Loja J\", \"Produto\": \"Produto 10\", \"Quantidade\": 13, \"Valor\": 27.45},\n",
    "])"
   ]
  },
  {
   "cell_type": "code",
   "execution_count": 87,
   "metadata": {},
   "outputs": [],
   "source": [
    "schema = StructType([\n",
    "    StructField(\"Loja\",StringType()),\n",
    "    StructField(\"Produto\",StringType()),\n",
    "    StructField(\"Quantidade\",IntegerType()),\n",
    "    StructField(\"Valor\",FloatType()),\n",
    "])\n",
    "dados_vendas = spark.createDataFrame(vendas, schema=schema)"
   ]
  },
  {
   "cell_type": "code",
   "execution_count": 88,
   "metadata": {},
   "outputs": [
    {
     "name": "stdout",
     "output_type": "stream",
     "text": [
      "+------+---------+----------+-----+\n",
      "|  Loja|  Produto|Quantidade|Valor|\n",
      "+------+---------+----------+-----+\n",
      "|Loja A|Produto 1|        20| 30.5|\n",
      "|Loja B|Produto 2|        15|25.75|\n",
      "|Loja C|Produto 3|        10| 15.2|\n",
      "|Loja D|Produto 4|        25| 50.0|\n",
      "|Loja E|Produto 5|        12| 40.8|\n",
      "+------+---------+----------+-----+\n",
      "only showing top 5 rows\n",
      "\n"
     ]
    }
   ],
   "source": [
    "dados_vendas.show(5)"
   ]
  },
  {
   "cell_type": "code",
   "execution_count": 89,
   "metadata": {},
   "outputs": [],
   "source": [
    "df_vendas_lojas = dados_vendas.select(\"Loja\",\"Produto\",f.expr(\"Quantidade * Valor\").alias(\"Valor_Total_Produto\"))"
   ]
  },
  {
   "cell_type": "code",
   "execution_count": 90,
   "metadata": {},
   "outputs": [
    {
     "name": "stdout",
     "output_type": "stream",
     "text": [
      "+------+---------+-------------------+\n",
      "|  Loja|  Produto|Valor_Total_Produto|\n",
      "+------+---------+-------------------+\n",
      "|Loja A|Produto 1|              610.0|\n",
      "|Loja B|Produto 2|             386.25|\n",
      "|Loja C|Produto 3|              152.0|\n",
      "|Loja D|Produto 4|             1250.0|\n",
      "|Loja E|Produto 5|          489.59998|\n",
      "+------+---------+-------------------+\n",
      "only showing top 5 rows\n",
      "\n"
     ]
    }
   ],
   "source": [
    "df_vendas_lojas.show(5)"
   ]
  },
  {
   "cell_type": "code",
   "execution_count": 91,
   "metadata": {},
   "outputs": [],
   "source": [
    "df_vendas_totais_por_loja = df_vendas_lojas.groupBy(\"Loja\").agg(f.sum(\"Valor_Total_Produto\").alias(\"Rendimento_da_Loja\"))\n",
    "df_vendas_totais_por_loja = df_vendas_totais_por_loja.withColumn(\"Rendimento_da_Loja\",f.round(\"Rendimento_da_Loja\",2))\n",
    "df_vendas_totais_por_loja = df_vendas_totais_por_loja.sort(\"Loja\")"
   ]
  },
  {
   "cell_type": "code",
   "execution_count": 92,
   "metadata": {},
   "outputs": [
    {
     "name": "stdout",
     "output_type": "stream",
     "text": [
      "+------+------------------+\n",
      "|  Loja|Rendimento_da_Loja|\n",
      "+------+------------------+\n",
      "|Loja A|             760.0|\n",
      "|Loja B|            811.85|\n",
      "|Loja C|             626.6|\n",
      "|Loja D|            2559.5|\n",
      "|Loja E|             914.2|\n",
      "+------+------------------+\n",
      "only showing top 5 rows\n",
      "\n"
     ]
    }
   ],
   "source": [
    "df_vendas_totais_por_loja.show(5)"
   ]
  },
  {
   "cell_type": "code",
   "execution_count": 93,
   "metadata": {},
   "outputs": [
    {
     "name": "stdout",
     "output_type": "stream",
     "text": [
      "root\n",
      " |-- Loja: string (nullable = true)\n",
      " |-- Rendimento_da_Loja: double (nullable = true)\n",
      "\n"
     ]
    }
   ],
   "source": [
    "df_vendas_totais_por_loja.printSchema()"
   ]
  },
  {
   "cell_type": "markdown",
   "metadata": {},
   "source": [
    "Lendo os arquivos e criando um Schema"
   ]
  },
  {
   "cell_type": "code",
   "execution_count": 94,
   "metadata": {},
   "outputs": [],
   "source": [
    "schema = StructType([\n",
    "    StructField(\"ID\",IntegerType()),\n",
    "    StructField(\"Nome\",StringType()),\n",
    "    StructField(\"Status\",StringType()),\n",
    "    StructField(\"Localizacao\",StringType()),\n",
    "    StructField(\"Vendas\",IntegerType()),\n",
    "    StructField(\"Data\",StringType()),\n",
    "])"
   ]
  },
  {
   "cell_type": "code",
   "execution_count": 95,
   "metadata": {},
   "outputs": [],
   "source": [
    "dados = spark.read.csv(\"/home/enricolm/Documents/curso_spark_udemy/data/despachantes.csv\",sep=\",\",schema=schema)"
   ]
  },
  {
   "cell_type": "code",
   "execution_count": 96,
   "metadata": {},
   "outputs": [
    {
     "name": "stdout",
     "output_type": "stream",
     "text": [
      "+---+-------------------+------+-------------+------+----------+\n",
      "| ID|               Nome|Status|  Localizacao|Vendas|      Data|\n",
      "+---+-------------------+------+-------------+------+----------+\n",
      "|  1|   Carminda Pestana| Ativo|  Santa Maria|    23|2020-08-11|\n",
      "|  2|    Deolinda Vilela| Ativo|Novo Hamburgo|    34|2020-03-05|\n",
      "|  3|   Emídio Dornelles| Ativo| Porto Alegre|    34|2020-02-05|\n",
      "|  4|Felisbela Dornelles| Ativo| Porto Alegre|    36|2020-02-05|\n",
      "|  5|     Graça Ornellas| Ativo| Porto Alegre|    12|2020-02-05|\n",
      "+---+-------------------+------+-------------+------+----------+\n",
      "only showing top 5 rows\n",
      "\n"
     ]
    }
   ],
   "source": [
    "dados.show(5)"
   ]
  },
  {
   "cell_type": "code",
   "execution_count": 97,
   "metadata": {},
   "outputs": [
    {
     "name": "stdout",
     "output_type": "stream",
     "text": [
      "root\n",
      " |-- ID: integer (nullable = true)\n",
      " |-- Nome: string (nullable = true)\n",
      " |-- Status: string (nullable = true)\n",
      " |-- Localizacao: string (nullable = true)\n",
      " |-- Vendas: integer (nullable = true)\n",
      " |-- Data: string (nullable = true)\n",
      "\n"
     ]
    }
   ],
   "source": [
    "dados.printSchema()"
   ]
  },
  {
   "cell_type": "code",
   "execution_count": 98,
   "metadata": {},
   "outputs": [
    {
     "name": "stdout",
     "output_type": "stream",
     "text": [
      "+----------+-------------------+------+\n",
      "|      Data|               Nome|Vendas|\n",
      "+----------+-------------------+------+\n",
      "|2020-03-05|      Roque Vásquez|    65|\n",
      "|2018-05-05|      Uriel Queiroz|    54|\n",
      "|2019-10-05|    Noêmia   Orriça|    45|\n",
      "|2020-02-05|Felisbela Dornelles|    36|\n",
      "|2020-03-05|    Deolinda Vilela|    34|\n",
      "|2020-02-05|   Emídio Dornelles|    34|\n",
      "|2020-08-11|   Carminda Pestana|    23|\n",
      "|2019-01-05|   Matilde Rebouças|    22|\n",
      "|2020-02-05|     Graça Ornellas|    12|\n",
      "|2020-09-05|   Viviana Sequeira|     0|\n",
      "+----------+-------------------+------+\n",
      "\n"
     ]
    }
   ],
   "source": [
    "dados.select(\"Data\",\"Nome\",\"Vendas\").orderBy(f.desc(\"Vendas\")).show()"
   ]
  },
  {
   "cell_type": "code",
   "execution_count": 99,
   "metadata": {},
   "outputs": [
    {
     "name": "stdout",
     "output_type": "stream",
     "text": [
      "+---+-------------------+------+-------------+------+----------+\n",
      "| ID|               Nome|Status|  Localizacao|Vendas|      Data|\n",
      "+---+-------------------+------+-------------+------+----------+\n",
      "|  8|      Roque Vásquez| Ativo| Porto Alegre|    65|2020-03-05|\n",
      "|  9|      Uriel Queiroz| Ativo| Porto Alegre|    54|2018-05-05|\n",
      "|  7|    Noêmia   Orriça| Ativo|  Santa Maria|    45|2019-10-05|\n",
      "|  4|Felisbela Dornelles| Ativo| Porto Alegre|    36|2020-02-05|\n",
      "|  2|    Deolinda Vilela| Ativo|Novo Hamburgo|    34|2020-03-05|\n",
      "|  3|   Emídio Dornelles| Ativo| Porto Alegre|    34|2020-02-05|\n",
      "|  1|   Carminda Pestana| Ativo|  Santa Maria|    23|2020-08-11|\n",
      "|  6|   Matilde Rebouças| Ativo| Porto Alegre|    22|2019-01-05|\n",
      "+---+-------------------+------+-------------+------+----------+\n",
      "\n"
     ]
    }
   ],
   "source": [
    "dados.select(\"*\").where(f.col(\"Vendas\") > 20).orderBy(f.desc(\"Vendas\")).show()"
   ]
  },
  {
   "cell_type": "code",
   "execution_count": 100,
   "metadata": {},
   "outputs": [
    {
     "name": "stdout",
     "output_type": "stream",
     "text": [
      "+---+-------------------+------+-------------+------+----------+\n",
      "| ID|               Nome|Status|  Localizacao|Vendas|      Data|\n",
      "+---+-------------------+------+-------------+------+----------+\n",
      "|  1|   Carminda Pestana| Ativo|  Santa Maria|    23|2020-08-11|\n",
      "|  2|    Deolinda Vilela| Ativo|Novo Hamburgo|    34|2020-03-05|\n",
      "|  3|   Emídio Dornelles| Ativo| Porto Alegre|    34|2020-02-05|\n",
      "|  4|Felisbela Dornelles| Ativo| Porto Alegre|    36|2020-02-05|\n",
      "|  5|     Graça Ornellas| Ativo| Porto Alegre|    12|2020-02-05|\n",
      "|  6|   Matilde Rebouças| Ativo| Porto Alegre|    22|2019-01-05|\n",
      "| 10|   Viviana Sequeira| Ativo| Porto Alegre|     0|2020-09-05|\n",
      "+---+-------------------+------+-------------+------+----------+\n",
      "\n"
     ]
    }
   ],
   "source": [
    "dados.select(\"*\").where((f.col(\"Status\") == \"Ativo\") & (f.col(\"Vendas\") < 40)).show()"
   ]
  },
  {
   "cell_type": "code",
   "execution_count": 101,
   "metadata": {},
   "outputs": [
    {
     "data": {
      "text/plain": [
       "10"
      ]
     },
     "execution_count": 101,
     "metadata": {},
     "output_type": "execute_result"
    }
   ],
   "source": [
    "dados.count()"
   ]
  },
  {
   "cell_type": "code",
   "execution_count": 102,
   "metadata": {},
   "outputs": [],
   "source": [
    "dados_anos = dados.withColumn(\"Data_Year\", f.year(f.to_timestamp(\"Data\",\"yyyy-MM-dd\")))"
   ]
  },
  {
   "cell_type": "code",
   "execution_count": 103,
   "metadata": {},
   "outputs": [
    {
     "name": "stdout",
     "output_type": "stream",
     "text": [
      "+---+-------------------+------+-------------+------+----------+---------+\n",
      "| ID|               Nome|Status|  Localizacao|Vendas|      Data|Data_Year|\n",
      "+---+-------------------+------+-------------+------+----------+---------+\n",
      "|  1|   Carminda Pestana| Ativo|  Santa Maria|    23|2020-08-11|     2020|\n",
      "|  2|    Deolinda Vilela| Ativo|Novo Hamburgo|    34|2020-03-05|     2020|\n",
      "|  3|   Emídio Dornelles| Ativo| Porto Alegre|    34|2020-02-05|     2020|\n",
      "|  4|Felisbela Dornelles| Ativo| Porto Alegre|    36|2020-02-05|     2020|\n",
      "|  5|     Graça Ornellas| Ativo| Porto Alegre|    12|2020-02-05|     2020|\n",
      "|  6|   Matilde Rebouças| Ativo| Porto Alegre|    22|2019-01-05|     2019|\n",
      "|  7|    Noêmia   Orriça| Ativo|  Santa Maria|    45|2019-10-05|     2019|\n",
      "|  8|      Roque Vásquez| Ativo| Porto Alegre|    65|2020-03-05|     2020|\n",
      "|  9|      Uriel Queiroz| Ativo| Porto Alegre|    54|2018-05-05|     2018|\n",
      "| 10|   Viviana Sequeira| Ativo| Porto Alegre|     0|2020-09-05|     2020|\n",
      "+---+-------------------+------+-------------+------+----------+---------+\n",
      "\n"
     ]
    }
   ],
   "source": [
    "dados_anos.show()"
   ]
  },
  {
   "cell_type": "code",
   "execution_count": 104,
   "metadata": {},
   "outputs": [
    {
     "name": "stdout",
     "output_type": "stream",
     "text": [
      "+---------+\n",
      "|Data_Year|\n",
      "+---------+\n",
      "|     2018|\n",
      "|     2019|\n",
      "|     2020|\n",
      "+---------+\n",
      "\n"
     ]
    }
   ],
   "source": [
    "dados_anos.select(f.col(\"Data_Year\")).distinct().show()"
   ]
  },
  {
   "cell_type": "code",
   "execution_count": 105,
   "metadata": {},
   "outputs": [
    {
     "name": "stdout",
     "output_type": "stream",
     "text": [
      "+---------+-----------+\n",
      "|Data_Year|Soma_Vendas|\n",
      "+---------+-----------+\n",
      "|     2020|        204|\n",
      "|     2019|         67|\n",
      "|     2018|         54|\n",
      "+---------+-----------+\n",
      "\n"
     ]
    }
   ],
   "source": [
    "dados_anos.groupBy(f.col(\"Data_Year\"))\\\n",
    "    .agg(f.sum(\"Vendas\")\\\n",
    "         .alias(\"Soma_Vendas\"))\\\n",
    "            .orderBy(f.desc(\"Data_Year\"))\\\n",
    "                .show()"
   ]
  },
  {
   "cell_type": "code",
   "execution_count": 106,
   "metadata": {},
   "outputs": [],
   "source": [
    "dados_anos = dados_anos.drop(\"Data\")"
   ]
  },
  {
   "cell_type": "code",
   "execution_count": 107,
   "metadata": {},
   "outputs": [
    {
     "data": {
      "text/plain": [
       "<bound method DataFrame.select of DataFrame[ID: int, Nome: string, Status: string, Localizacao: string, Vendas: int, Data_Year: int]>"
      ]
     },
     "execution_count": 107,
     "metadata": {},
     "output_type": "execute_result"
    }
   ],
   "source": [
    "dados_anos.select"
   ]
  },
  {
   "cell_type": "code",
   "execution_count": 108,
   "metadata": {},
   "outputs": [
    {
     "name": "stdout",
     "output_type": "stream",
     "text": [
      "+-------------+------+\n",
      "|  Localizacao|Vendas|\n",
      "+-------------+------+\n",
      "| Porto Alegre|   223|\n",
      "|  Santa Maria|    68|\n",
      "|Novo Hamburgo|    34|\n",
      "+-------------+------+\n",
      "\n"
     ]
    }
   ],
   "source": [
    "dados_anos.groupBy(\"Localizacao\").agg(f.sum(\"Vendas\").alias(\"Vendas\")).orderBy(f.col(\"Vendas\").desc(),f.col(\"Localizacao\").desc()).show()"
   ]
  },
  {
   "cell_type": "code",
   "execution_count": 109,
   "metadata": {},
   "outputs": [
    {
     "name": "stdout",
     "output_type": "stream",
     "text": [
      "+---------+------+\n",
      "|Data_Year|Vendas|\n",
      "+---------+------+\n",
      "|     2018|    54|\n",
      "|     2019|    67|\n",
      "|     2020|   204|\n",
      "+---------+------+\n",
      "\n"
     ]
    }
   ],
   "source": [
    "dados_anos.select(\"*\").groupBy(\"Data_Year\").agg(f.sum(\"Vendas\").alias(\"Vendas\")).show()"
   ]
  },
  {
   "cell_type": "code",
   "execution_count": 110,
   "metadata": {},
   "outputs": [
    {
     "name": "stdout",
     "output_type": "stream",
     "text": [
      "+---+-------------------+------+-------------+------+---------+\n",
      "| ID|               Nome|Status|  Localizacao|Vendas|Data_Year|\n",
      "+---+-------------------+------+-------------+------+---------+\n",
      "|  7|    Noêmia   Orriça| Ativo|  Santa Maria|    45|     2019|\n",
      "|  1|   Carminda Pestana| Ativo|  Santa Maria|    23|     2020|\n",
      "|  8|      Roque Vásquez| Ativo| Porto Alegre|    65|     2020|\n",
      "|  9|      Uriel Queiroz| Ativo| Porto Alegre|    54|     2018|\n",
      "|  4|Felisbela Dornelles| Ativo| Porto Alegre|    36|     2020|\n",
      "|  3|   Emídio Dornelles| Ativo| Porto Alegre|    34|     2020|\n",
      "|  6|   Matilde Rebouças| Ativo| Porto Alegre|    22|     2019|\n",
      "|  5|     Graça Ornellas| Ativo| Porto Alegre|    12|     2020|\n",
      "| 10|   Viviana Sequeira| Ativo| Porto Alegre|     0|     2020|\n",
      "|  2|    Deolinda Vilela| Ativo|Novo Hamburgo|    34|     2020|\n",
      "+---+-------------------+------+-------------+------+---------+\n",
      "\n"
     ]
    }
   ],
   "source": [
    "dados_anos.select(\"*\").orderBy(f.col(\"Localizacao\").desc(),f.col(\"Vendas\").desc()).show()"
   ]
  },
  {
   "cell_type": "code",
   "execution_count": 121,
   "metadata": {},
   "outputs": [],
   "source": [
    "list_dados_novos = [\n",
    "    (8, \"Carlos\", \"Ativo\", \"Porto Alegre\", 30, 2019),\n",
    "    (9, \"Ana\", \"Inativo\", \"São Paulo\", 20, 2019),\n",
    "    (18, \"Mariana\", \"Ativo\", \"Rio de Janeiro\", 50, 2019),\n",
    "    (11, \"Pedro\", \"Inativo\", \"Belo Horizonte\", 40, 2019),\n",
    "    (12, \"Larissa\", \"Ativo\", \"Recife\", 35, 2019),\n",
    "    (13, \"Fernando\", \"Inativo\", \"Salvador\", 25, 2019),\n",
    "    (14, \"Isabela\", \"Ativo\", \"Brasília\", 60, 2019),\n",
    "    (15, \"Lucas\", \"Inativo\", \"Fortaleza\", 15, 2019),\n",
    "    (16, \"Camila\", \"Ativo\", \"Curitiba\", 55, 2019),\n",
    "    (17, \"Rafael\", \"Inativo\", \"Manaus\", 22, 2019)\n",
    "]\n",
    "dados_rdd_despachantes = spark.sparkContext.parallelize(list_dados_novos)"
   ]
  },
  {
   "cell_type": "code",
   "execution_count": 122,
   "metadata": {},
   "outputs": [],
   "source": [
    "dados_add = spark.createDataFrame(dados_rdd_despachantes, schema=schema)"
   ]
  },
  {
   "cell_type": "code",
   "execution_count": 123,
   "metadata": {},
   "outputs": [],
   "source": [
    "dados_year = dados_add.union(dados_anos)"
   ]
  },
  {
   "cell_type": "code",
   "execution_count": 126,
   "metadata": {},
   "outputs": [],
   "source": [
    "dados_year = dados_year.orderBy(\"ID\") \n"
   ]
  },
  {
   "cell_type": "code",
   "execution_count": 127,
   "metadata": {},
   "outputs": [
    {
     "name": "stdout",
     "output_type": "stream",
     "text": [
      "+---+-------------------+-------+--------------+------+----+\n",
      "| ID|               Nome| Status|   Localizacao|Vendas|Data|\n",
      "+---+-------------------+-------+--------------+------+----+\n",
      "|  1|   Carminda Pestana|  Ativo|   Santa Maria|    23|2020|\n",
      "|  2|    Deolinda Vilela|  Ativo| Novo Hamburgo|    34|2020|\n",
      "|  3|   Emídio Dornelles|  Ativo|  Porto Alegre|    34|2020|\n",
      "|  4|Felisbela Dornelles|  Ativo|  Porto Alegre|    36|2020|\n",
      "|  5|     Graça Ornellas|  Ativo|  Porto Alegre|    12|2020|\n",
      "|  6|   Matilde Rebouças|  Ativo|  Porto Alegre|    22|2019|\n",
      "|  7|    Noêmia   Orriça|  Ativo|   Santa Maria|    45|2019|\n",
      "|  8|             Carlos|  Ativo|  Porto Alegre|    30|2019|\n",
      "|  8|      Roque Vásquez|  Ativo|  Porto Alegre|    65|2020|\n",
      "|  9|                Ana|Inativo|     São Paulo|    20|2019|\n",
      "|  9|      Uriel Queiroz|  Ativo|  Porto Alegre|    54|2018|\n",
      "| 10|   Viviana Sequeira|  Ativo|  Porto Alegre|     0|2020|\n",
      "| 11|              Pedro|Inativo|Belo Horizonte|    40|2019|\n",
      "| 12|            Larissa|  Ativo|        Recife|    35|2019|\n",
      "| 13|           Fernando|Inativo|      Salvador|    25|2019|\n",
      "| 14|            Isabela|  Ativo|      Brasília|    60|2019|\n",
      "| 15|              Lucas|Inativo|     Fortaleza|    15|2019|\n",
      "| 16|             Camila|  Ativo|      Curitiba|    55|2019|\n",
      "| 17|             Rafael|Inativo|        Manaus|    22|2019|\n",
      "| 18|            Mariana|  Ativo|Rio de Janeiro|    50|2019|\n",
      "+---+-------------------+-------+--------------+------+----+\n",
      "\n"
     ]
    }
   ],
   "source": [
    "dados_year.show()"
   ]
  },
  {
   "cell_type": "code",
   "execution_count": 131,
   "metadata": {},
   "outputs": [
    {
     "name": "stdout",
     "output_type": "stream",
     "text": [
      "+---+--------+-------+--------------+------+----+\n",
      "| ID|    Nome| Status|   Localizacao|Vendas|Data|\n",
      "+---+--------+-------+--------------+------+----+\n",
      "| 11|   Pedro|Inativo|Belo Horizonte|    40|2019|\n",
      "| 13|Fernando|Inativo|      Salvador|    25|2019|\n",
      "+---+--------+-------+--------------+------+----+\n",
      "\n"
     ]
    }
   ],
   "source": [
    "dados_year.filter((f.col(\"Status\") == \"Inativo\" )& (f.col(\"Vendas\") > 24)).show()"
   ]
  },
  {
   "cell_type": "code",
   "execution_count": 132,
   "metadata": {},
   "outputs": [
    {
     "name": "stdout",
     "output_type": "stream",
     "text": [
      "+--------------+------+\n",
      "|   Localizacao|Vendas|\n",
      "+--------------+------+\n",
      "|     São Paulo|    20|\n",
      "|   Santa Maria|    68|\n",
      "|      Salvador|    25|\n",
      "|Rio de Janeiro|    50|\n",
      "|        Recife|    35|\n",
      "|  Porto Alegre|   253|\n",
      "| Novo Hamburgo|    34|\n",
      "|        Manaus|    22|\n",
      "|     Fortaleza|    15|\n",
      "|      Curitiba|    55|\n",
      "|      Brasília|    60|\n",
      "|Belo Horizonte|    40|\n",
      "+--------------+------+\n",
      "\n"
     ]
    }
   ],
   "source": [
    "dados_year.groupBy(\"Localizacao\").agg(f.sum(\"Vendas\").alias(\"Vendas\")).orderBy(f.col(\"Localizacao\").desc()).show()"
   ]
  },
  {
   "cell_type": "code",
   "execution_count": null,
   "metadata": {},
   "outputs": [],
   "source": []
  }
 ],
 "metadata": {
  "kernelspec": {
   "display_name": "venv",
   "language": "python",
   "name": "python3"
  },
  "language_info": {
   "codemirror_mode": {
    "name": "ipython",
    "version": 3
   },
   "file_extension": ".py",
   "mimetype": "text/x-python",
   "name": "python",
   "nbconvert_exporter": "python",
   "pygments_lexer": "ipython3",
   "version": "3.8.10"
  }
 },
 "nbformat": 4,
 "nbformat_minor": 2
}
